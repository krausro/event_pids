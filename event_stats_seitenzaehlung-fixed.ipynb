{
 "cells": [
  {
   "cell_type": "markdown",
   "id": "75d92dc7-7e26-4478-967e-31ab5b88e835",
   "metadata": {},
   "source": []
  },
  {
   "cell_type": "markdown",
   "id": "3975010d-b74d-4efb-a180-f79f415c5f61",
   "metadata": {},
   "source": [
    "Änderungen:\n",
    "Programm holte immer wieder Daten aus erster Seite der Abfrage, weil an die next_url pro Schleifendurchlauf die ursprünglichen params angehängt wurden (die statisch auf Seite 1 der Abfrage blieben). Vorgeschlagener Fix: Seitenabfrage direkt in params hochzählen und pro Seite/Schleifendurchgang aus API-URL und params neue Abfrage-URL generieren. URL ist jetzt Konstante (nur die API-Adresse), an die Filter/Queries und Seitenangaben in Abfrageschleife jeweils angehängt werden - fetch_data(): Argumente dois, publication_years gelöscht, weil Output der Funktion; Argument URL gelöscht, weil s.o. Zweifelhaft: Alle tatsächlich nötigen Argumente der Funktion (URL, params) sind jetzt global vorgegeben (params dabei aber nicht konstant), während Auswahl der ausgegebenen Daten in fetch_data jeweils umdefiniert werden muss, ich bin mir nicht sicher, ob das so schon der beste Stil ist.  - pd.set_options: Zum Prüfen der Ergebnisse Ansicht Dataframe geändert, kürzt Ausgabe nicht und bricht nicht um."
   ]
  },
  {
   "cell_type": "code",
   "execution_count": 15,
   "id": "8f3f634a-0d56-4639-bb34-7bd7e3bc787d",
   "metadata": {},
   "outputs": [],
   "source": [
    "import requests\n",
    "import pandas as pd\n",
    "\n",
    "# Define the API URL\n",
    "URL = \"https://api.datacite.org/dois\"\n",
    "\n",
    "# Define the query parameters\n",
    "params = {\n",
    "    \"client-id\" : \"WUUA.CONFIDENT\",\n",
    "    #\"query\": \"types.resourceTypeGeneral:Collection\",\n",
    "    \"page[number]\": 1,\n",
    "    \"page[size]\": 10\n",
    "}\n",
    "\n",
    "# Initialize lists to store data\n",
    "dois = []\n",
    "publication_years = []\n",
    "title = []\n",
    "\n",
    "\n",
    "# Function to fetch data from API and append to lists\n",
    "def fetch_data():\n",
    "    response = requests.get(URL, params=params)    \n",
    "    antwort = response.json()\n",
    "    for item in antwort[\"data\"]:\n",
    "        attributes = item[\"attributes\"]\n",
    "        dois.append(attributes[\"doi\"])\n",
    "        publication_years.append(attributes[\"publicationYear\"])\n",
    "        title.append(attributes[\"titles\"][0][\"title\"])\n",
    "    # Look up URL of next page\n",
    "    return antwort[\"links\"].get(\"next\")\n",
    "\n",
    "\n",
    "# Fetch data (\"while True:\" to fetch all pages at once)\n",
    "while params[\"page[number]\"] < 3: \n",
    "    next_page = fetch_data()\n",
    "    # Check if there is a next page to fetch, if yes, count up page number of query\n",
    "    if next_page == None:\n",
    "        break\n",
    "    else: \n",
    "        params[\"page[number]\"] += 1\n"
   ]
  },
  {
   "cell_type": "code",
   "execution_count": 16,
   "id": "a31d2314-95f9-43ed-812e-061dee8abccb",
   "metadata": {},
   "outputs": [
    {
     "name": "stdout",
     "output_type": "stream",
     "text": [
      "Statistic of events per publication year:\n",
      "Publication Year\n",
      "1997    2\n",
      "1998    1\n",
      "1999    1\n",
      "2001    2\n",
      "2002    1\n",
      "2005    1\n",
      "2006    2\n",
      "2007    1\n",
      "2008    1\n",
      "2009    1\n",
      "2010    1\n",
      "2011    1\n",
      "2012    1\n",
      "2021    1\n",
      "2022    1\n",
      "2023    1\n",
      "2024    1\n",
      "Name: count, dtype: int64\n"
     ]
    }
   ],
   "source": [
    "# Create a DataFrame from the extracted data\n",
    "\n",
    "# Show DataFrame untruncated\n",
    "pd.set_option('display.max_rows', None)  \n",
    "pd.set_option('display.max_columns', None)\n",
    "pd.set_option('display.width',1000)\n",
    "\n",
    "df = pd.DataFrame({\n",
    "    \"DOI\": dois,\n",
    "    \"Publication Year\": publication_years,\n",
    "    \"Title\": title\n",
    "})\n",
    "\n",
    "\n",
    "# Generate a statistic of events per publication year\n",
    "event_counts = df[\"Publication Year\"].value_counts().sort_index()\n",
    "\n",
    "# Print the statistic\n",
    "print(\"Statistic of events per publication year:\")\n",
    "print(event_counts)"
   ]
  },
  {
   "cell_type": "code",
   "execution_count": 17,
   "id": "e4f52e3f-e105-448f-b227-0d2dbbb62a02",
   "metadata": {},
   "outputs": [
    {
     "name": "stdout",
     "output_type": "stream",
     "text": [
      "                   DOI  Publication Year                                              Title\n",
      "0   10.25798/rsvj-2s07              2012                     Data Systems in Aerospace 2012\n",
      "1   10.25798/jc7k-bg66              1997                          Data Systems in Aerospace\n",
      "2   10.25798/jjz3-r706              2008                     Data Systems in Aerospace 2008\n",
      "3   10.25798/28d1-9224              2009                     Data Systems in Aerospace 2009\n",
      "4   10.25798/pnhh-wf36              2007                     Data Systems in Aerospace 2007\n",
      "5   10.25798/hzfg-jk52              2010                     Data Systems in Aerospace 2010\n",
      "6   10.25798/4bbx-tc78              2011                     Data Systems in Aerospace 2011\n",
      "7   10.25798/94nq-zg90              2001                     Data Systems in Aerospace 2000\n",
      "8   10.25798/504r-8926              2006                     Data Systems in Aerospace 2006\n",
      "9   10.25798/fmjb-0279              2002                     Data Systems in Aerospace 2002\n",
      "10  10.25798/y2pn-6653              2005                     Data Systems in Aerospace 2005\n",
      "11  10.25798/94nq-zg90              2001                     Data Systems in Aerospace 2000\n",
      "12  10.25798/504r-8926              2006                     Data Systems in Aerospace 2006\n",
      "13  10.25798/ncmp-yr04              1999                     Data Systems in Aerospace 1999\n",
      "14  10.25798/ap3m-nz07              1997                     Data Systems in Aerospace 1997\n",
      "15  10.25798/adx4-en17              1998                     Data Systems in Aerospace 1998\n",
      "16  10.25798/cf0w-fw48              2024  2024 IEEE International Symposium on Circuits ...\n",
      "17  10.25798/mdcs-d378              2023  2023 IEEE International Symposium on Circuits ...\n",
      "18  10.25798/1c3x-4788              2022  2022 IEEE International Symposium on Circuits ...\n",
      "19  10.25798/yw2f-7z82              2021  2021 IEEE International Symposium on Circuits ...\n"
     ]
    }
   ],
   "source": [
    "print(df)"
   ]
  },
  {
   "cell_type": "code",
   "execution_count": null,
   "id": "f9aec674-0d86-4920-9780-f2f56858acec",
   "metadata": {},
   "outputs": [],
   "source": []
  }
 ],
 "metadata": {
  "kernelspec": {
   "display_name": "Python 3 (ipykernel)",
   "language": "python",
   "name": "python3"
  },
  "language_info": {
   "codemirror_mode": {
    "name": "ipython",
    "version": 3
   },
   "file_extension": ".py",
   "mimetype": "text/x-python",
   "name": "python",
   "nbconvert_exporter": "python",
   "pygments_lexer": "ipython3",
   "version": "3.11.7"
  }
 },
 "nbformat": 4,
 "nbformat_minor": 5
}
